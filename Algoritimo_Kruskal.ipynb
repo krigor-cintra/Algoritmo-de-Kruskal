{
 "cells": [
  {
   "cell_type": "markdown",
   "metadata": {},
   "source": [
    "Criação da Classe para adcionar arestar e realizar  a adicção de arestas dos nossos grafos\n"
   ]
  },
  {
   "cell_type": "code",
   "execution_count": 62,
   "metadata": {},
   "outputs": [],
   "source": [
    "class Grafo:\n",
    "    def __init__(self, vertices):\n",
    "        self.V = vertices\n",
    "        self.grafo = []\n",
    "        \n",
    "\n",
    "    def adicionar_aresta(self, u, v, w):#Vertice U, Vertice V, Peso W\n",
    "        self.grafo.append((u, v, w))#Adicionando as arestas do nosso gravo e seus pesos ( As relações dos objetos do grafo)\n",
    "        \n",
    "\n",
    "    def kruskal(self):\n",
    "        resultado = []\n",
    "        self.grafo = sorted(self.grafo, key=lambda item: item[2])\n",
    "        \"\"\"Estamos modificando a nossa lista usando o sort, que organiza de forma crescente as listas, \n",
    "        no caso estamos utilizando o sort para organizar a lista com base no 3 elemento de cada sub lista.\"\"\"\n",
    "        pai = [i for i in range(self.V + 1)]  # Aumente o tamanho da lista em 1\n",
    "        def encontrar(v): #A função usa a técnica de recursão para navegar pela estrutura de conjuntos \n",
    "            if pai[v] == v:#disjuntos até encontrar o representante\n",
    "                return v\n",
    "            return encontrar(pai[v])\n",
    "\n",
    "        def unir(u, v):\n",
    "            raiz_u = encontrar(u)#Faz a busca na nossa lista pai usando a função encontrar anteriormente para achar o vertice U\n",
    "            raiz_v = encontrar(v)#Faz a busca na nossa lista pai usando a função encontrar anteriormente para achar o vertice V\n",
    "            pai[raiz_u] = raiz_v#A função faz a  união é usada para conectar dois conjuntos\n",
    "\n",
    "            \n",
    "            \n",
    "\n",
    "        for aresta in self.grafo: #Para cada aresta que adicionamos no grafo  o sistema verifica\n",
    "            u, v, w = aresta #Pega os valores do vertices e o peso da aresta\n",
    "            if encontrar(u) != encontrar(v):#Se o Vertice U e diferente do vertice V\n",
    "                resultado.append((u, v, w))#Caso seja verdadeiro ele faz a adição da aresta no resultar\n",
    "                unir(u, v)#E faz a uniao dos vertice para evitar ciclos na nossa árvore \n",
    "\n",
    "        return resultado #Retorna a lista de resultados da criada pelo nosso algoritmo. \n"
   ]
  },
  {
   "cell_type": "markdown",
   "metadata": {},
   "source": [
    "<center>\n",
    "\n",
    "\n",
    "Aplicação em Caso Real\n",
    "\n",
    "</center>\n",
    "Imagine que você tem um conjunto de cidades com estradas que as conectam, e cada estrada tem um custo associado (por exemplo, o custo de construção ou a distância entre as cidades).\n",
    "Você deseja construir uma rede de estradas de modo que todas as cidades estejam conectadas, mas com o menor custo possível. \n",
    "\n",
    "Utilize a imagem em sequecia como exemplo:  \n",
    "\n"
   ]
  },
  {
   "cell_type": "markdown",
   "metadata": {},
   "source": [
    "<center> <img src=\"Img/Grafo_caso_1.PNG\", alt =\"jpg_python\", width=\"450\"> </center>"
   ]
  },
  {
   "cell_type": "markdown",
   "metadata": {},
   "source": [
    "Os Vertices A,B,C,D,E e F são substituidos respectivamente pelos numeros 1,2,3,4,5 e 6 para facilitar a compreensão das informações do nosso programa."
   ]
  },
  {
   "cell_type": "code",
   "execution_count": 63,
   "metadata": {},
   "outputs": [
    {
     "name": "stdout",
     "output_type": "stream",
     "text": [
      "Arestas na Árvore de Abrangência Mínima:\n",
      "(e - d) => 2\n",
      "(e - f) => 2\n",
      "(c - b) => 3\n",
      "(c - e) => 3\n",
      "(a - b) => 7\n"
     ]
    }
   ],
   "source": [
    "g = Grafo(6)  # Número total de vértices\n",
    "g.adicionar_aresta(5, 4, 2)\n",
    "g.adicionar_aresta(5, 6, 2)\n",
    "g.adicionar_aresta(3, 2, 3)\n",
    "g.adicionar_aresta(3, 5, 3)\n",
    "g.adicionar_aresta(4, 6, 4)\n",
    "g.adicionar_aresta(2, 4, 5)\n",
    "g.adicionar_aresta(3, 4, 6)\n",
    "g.adicionar_aresta(2, 3, 3)\n",
    "g.adicionar_aresta(1, 2, 7)\n",
    "g.adicionar_aresta(1, 3, 8)\n",
    "\n",
    "resultado = g.kruskal()\n",
    "\n",
    "print(\"Arestas na Árvore de Abrangência Mínima:\")\n",
    "for u, v, w in resultado:\n",
    "    print(f\"({chr(96+u)} - {chr(96+v)}) => {w}\")\n",
    "\n"
   ]
  },
  {
   "cell_type": "markdown",
   "metadata": {},
   "source": [
    "Árvore gerada\n",
    "<center> <img src=\"Img\\Grafo_resultado_1.jpg\", alt =\"jpg_python\", width=\"450\"> </center>"
   ]
  }
 ],
 "metadata": {
  "kernelspec": {
   "display_name": "Python 3",
   "language": "python",
   "name": "python3"
  },
  "language_info": {
   "codemirror_mode": {
    "name": "ipython",
    "version": 3
   },
   "file_extension": ".py",
   "mimetype": "text/x-python",
   "name": "python",
   "nbconvert_exporter": "python",
   "pygments_lexer": "ipython3",
   "version": "3.11.4"
  }
 },
 "nbformat": 4,
 "nbformat_minor": 2
}
