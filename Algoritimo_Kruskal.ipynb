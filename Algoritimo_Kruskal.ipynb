{
 "cells": [
  {
   "cell_type": "markdown",
   "metadata": {},
   "source": [
    "Criação da Classe para adcionar arestar e realizar  a adicção de arestas dos nossos grafos\n"
   ]
  },
  {
   "cell_type": "code",
   "execution_count": 1,
   "metadata": {},
   "outputs": [],
   "source": [
    "class Grafo:\n",
    "    def __init__(self, vertices):\n",
    "        self.V = vertices\n",
    "        self.grafo = []\n",
    "\n",
    "    def adicionar_aresta(self, u, v, w):\n",
    "        self.grafo.append((u, v, w))\n",
    "\n",
    "    def kruskal(self):\n",
    "        resultado = []\n",
    "        self.grafo = sorted(self.grafo, key=lambda item: item[2])\n",
    "        pai = [i for i in range(self.V + 1)]  # Aumente o tamanho da lista em 1\n",
    "\n",
    "        def encontrar(v):\n",
    "            if pai[v] == v:\n",
    "                return v\n",
    "            return encontrar(pai[v])\n",
    "\n",
    "        def unir(u, v):\n",
    "            raiz_u = encontrar(u)\n",
    "            raiz_v = encontrar(v)\n",
    "            pai[raiz_u] = raiz_v\n",
    "\n",
    "        for aresta in self.grafo:\n",
    "            u, v, w = aresta\n",
    "            if encontrar(u) != encontrar(v):\n",
    "                resultado.append((u, v, w))\n",
    "                unir(u, v)\n",
    "\n",
    "        return resultado\n"
   ]
  },
  {
   "cell_type": "markdown",
   "metadata": {},
   "source": [
    "Aplicação em Caso Real\n"
   ]
  },
  {
   "cell_type": "code",
   "execution_count": 2,
   "metadata": {},
   "outputs": [
    {
     "name": "stdout",
     "output_type": "stream",
     "text": [
      "Arestas na Árvore de Abrangência Mínima:\n",
      "(5-4) => 2\n",
      "(5-6) => 2\n",
      "(3-2) => 3\n",
      "(3-5) => 3\n",
      "(1-2) => 7\n"
     ]
    }
   ],
   "source": [
    "g = Grafo(6)  # Número total de vértices\n",
    "g.adicionar_aresta(5, 4, 2)\n",
    "g.adicionar_aresta(5, 6, 2)\n",
    "g.adicionar_aresta(3, 2, 3)\n",
    "g.adicionar_aresta(3, 5, 3)\n",
    "g.adicionar_aresta(4, 6, 4)\n",
    "g.adicionar_aresta(2, 4, 5)\n",
    "g.adicionar_aresta(3, 4, 6)\n",
    "g.adicionar_aresta(1, 2, 7)\n",
    "g.adicionar_aresta(1, 3, 8)\n",
    "\n",
    "resultado = g.kruskal()\n",
    "print(\"Arestas na Árvore de Abrangência Mínima:\")\n",
    "for u, v, w in resultado:\n",
    "    print(f\"({u}-{v}) => {w}\")\n",
    "\n"
   ]
  },
  {
   "cell_type": "markdown",
   "metadata": {},
   "source": []
  }
 ],
 "metadata": {
  "kernelspec": {
   "display_name": "Python 3",
   "language": "python",
   "name": "python3"
  },
  "language_info": {
   "codemirror_mode": {
    "name": "ipython",
    "version": 3
   },
   "file_extension": ".py",
   "mimetype": "text/x-python",
   "name": "python",
   "nbconvert_exporter": "python",
   "pygments_lexer": "ipython3",
   "version": "3.11.4"
  }
 },
 "nbformat": 4,
 "nbformat_minor": 2
}
